{
 "cells": [
  {
   "cell_type": "markdown",
   "id": "9fd18726",
   "metadata": {},
   "source": [
    "## 6. 뉴스 카테고리 다중분류-Project"
   ]
  },
  {
   "cell_type": "code",
   "execution_count": 1,
   "id": "6fab4835",
   "metadata": {},
   "outputs": [
    {
     "name": "stderr",
     "output_type": "stream",
     "text": [
      "2023-06-28 18:03:19.185790: I tensorflow/core/platform/cpu_feature_guard.cc:182] This TensorFlow binary is optimized to use available CPU instructions in performance-critical operations.\n",
      "To enable the following instructions: SSE4.1 SSE4.2 AVX AVX2 FMA, in other operations, rebuild TensorFlow with the appropriate compiler flags.\n"
     ]
    }
   ],
   "source": [
    "from tensorflow.keras.datasets import reuters\n",
    "import matplotlib.pyplot as plt\n",
    "import seaborn as sns\n",
    "import numpy as np\n",
    "import pandas as pd\n",
    "\n",
    "from sklearn.feature_extraction.text import CountVectorizer\n",
    "from sklearn.feature_extraction.text import TfidfTransformer\n",
    "\n",
    "from sklearn.naive_bayes import MultinomialNB #다항분포 나이브 베이즈 모델\n",
    "from sklearn.linear_model import LogisticRegression, SGDClassifier\n",
    "from sklearn.naive_bayes import ComplementNB\n",
    "from sklearn.tree import DecisionTreeClassifier\n",
    "from sklearn.ensemble import RandomForestClassifier\n",
    "from sklearn.ensemble import GradientBoostingClassifier\n",
    "from sklearn.ensemble import VotingClassifier\n",
    "from sklearn.svm import LinearSVC\n",
    "from sklearn.metrics import accuracy_score #정확도 계산\n",
    "\n",
    "\n",
    "from sklearn.ensemble import VotingClassifier\n",
    "from sklearn.linear_model import LogisticRegression\n",
    "from sklearn.naive_bayes import GaussianNB\n",
    "from sklearn.tree import DecisionTreeClassifier"
   ]
  },
  {
   "cell_type": "code",
   "execution_count": 2,
   "id": "f010ca4c",
   "metadata": {},
   "outputs": [],
   "source": [
    "word_index = reuters.get_word_index(path=\"reuters_word_index.json\")\n",
    "index_to_word = { index+3 : word for word, index in word_index.items() }\n",
    "\n",
    "for index, token in enumerate((\"<pad>\", \"<sos>\", \"<unk>\")):\n",
    "    index_to_word[index]=token"
   ]
  },
  {
   "cell_type": "code",
   "execution_count": 3,
   "id": "d193f29a",
   "metadata": {},
   "outputs": [],
   "source": [
    "dtmvector = CountVectorizer()\n",
    "tfidf_transformer = TfidfTransformer()\n",
    "\n",
    "def reuters_load_ml(num_words, index_to_word):\n",
    "    (x_train, y_train), (x_test, y_test) = reuters.load_data(num_words=num_words, test_split=0.2)\n",
    "    \n",
    "    decoded = []\n",
    "    for i in range(len(x_train)):\n",
    "        t = ' '.join([index_to_word[index] for index in x_train[i]])\n",
    "        decoded.append(t)\n",
    "\n",
    "    x_train = decoded\n",
    "    \n",
    "    decoded = []\n",
    "    for i in range(len(x_test)):\n",
    "        t = ' '.join([index_to_word[index] for index in x_test[i]])\n",
    "        decoded.append(t)\n",
    "\n",
    "    x_test = decoded\n",
    "    \n",
    "    x_train_dtm = dtmvector.fit_transform(x_train)\n",
    "    x_train = tfidf_transformer.fit_transform(x_train_dtm)\n",
    "    x_test_dtm = dtmvector.transform(x_test) #테스트 데이터를 DTM으로 변환\n",
    "    x_test = tfidf_transformer.transform(x_test_dtm) #DTM을 TF-IDF 행렬로 변환\n",
    "    \n",
    "    return x_train, y_train, x_test, y_test"
   ]
  },
  {
   "cell_type": "code",
   "execution_count": 4,
   "id": "63a6a37c",
   "metadata": {},
   "outputs": [],
   "source": [
    "from sklearn.metrics import classification_report\n",
    "from sklearn.metrics import confusion_matrix\n",
    "\n",
    "def graph_confusion_matrix(model, x_test, y_test):#, classes_name):\n",
    "  df_cm = pd.DataFrame(confusion_matrix(y_test, model.predict(x_test)))#, index=classes_name, columns=classes_name)\n",
    "  fig = plt.figure(figsize=(12,12))\n",
    "  heatmap = sns.heatmap(df_cm, annot=True, fmt=\"d\")\n",
    "  heatmap.yaxis.set_ticklabels(heatmap.yaxis.get_ticklabels(), rotation=0, ha='right', fontsize=12)\n",
    "  heatmap.xaxis.set_ticklabels(heatmap.xaxis.get_ticklabels(), rotation=45, ha='right', fontsize=12)\n",
    "  plt.ylabel('label')\n",
    "  plt.xlabel('predicted value')"
   ]
  },
  {
   "cell_type": "code",
   "execution_count": 5,
   "id": "a23da644",
   "metadata": {},
   "outputs": [],
   "source": [
    "def fit_ml(x_train, y_train, x_test, y_test):\n",
    "    nb = MultinomialNB()\n",
    "    nb.fit(x_train, y_train)\n",
    "    predicted = nb.predict(x_test) #테스트 데이터에 대한 예측\n",
    "    print(\"NB 정확도:\", accuracy_score(y_test, predicted)) #예측값과 실제값 비교\n",
    "    #graph_confusion_matrix(nb, x_test, y_test)\n",
    "    \n",
    "    cb = ComplementNB()\n",
    "    cb.fit(x_train, y_train)\n",
    "    predicted = cb.predict(x_test)\n",
    "    print(\"CB 정확도:\", accuracy_score(y_test, predicted)) #예측값과 실제값 비교\n",
    "    \n",
    "    lr = LogisticRegression(C=10000, penalty='l2', max_iter=3000)\n",
    "    lr.fit(x_train, y_train)\n",
    "    predicted = lr.predict(x_test)\n",
    "    print(\"LogisticRegression 정확도:\", accuracy_score(y_test, predicted)) #예측값과 실제값 비교\n",
    "    \n",
    "    lsvc = LinearSVC(C=1000, penalty='l1', max_iter=3000, dual=False)\n",
    "    lsvc.fit(x_train, y_train)\n",
    "    predicted = lsvc.predict(x_test)\n",
    "    print(\"LinearSVC 정확도:\", accuracy_score(y_test, predicted)) #예측값과 실제값 비교\n",
    "    \n",
    "    tree = DecisionTreeClassifier(max_depth=10, random_state=0)\n",
    "    tree.fit(x_train, y_train)\n",
    "    predicted = tree.predict(x_test)\n",
    "    print(\"DecisionTreeClassifier 정확도:\", accuracy_score(y_test, predicted)) #예측값과 실제값 비교\n",
    "    \n",
    "    forest = RandomForestClassifier(n_estimators=5, random_state=0)\n",
    "    forest.fit(x_train, y_train)\n",
    "    predicted = forest.predict(x_test)\n",
    "    print(\"RandomForestClassifier 정확도:\", accuracy_score(y_test, predicted)) #예측값과 실제값 비교\n",
    "    \n",
    "    grbt = GradientBoostingClassifier(random_state=0) # verbose=3\n",
    "    grbt.fit(x_train, y_train)\n",
    "    predicted = grbt.predict(x_test)\n",
    "    print(\"GradientBoostingClassifier 정확도:\", accuracy_score(y_test, predicted)) #예측값과 실제값 비교\n",
    "    \n",
    "    clf1 = LogisticRegression()\n",
    "    clf2 = ComplementNB()\n",
    "    clf3 = GradientBoostingClassifier(random_state=0)\n",
    "    print(\"LogisticRegression 정확도:\", accuracy_score(y_test, predicted)) #예측값과 실제값 비교\n",
    "\n",
    "    voting_classifier = VotingClassifier(estimators=[('lr', clf1), ('gnb', clf2), ('dt', clf3)], voting='hard')\n",
    "    voting_classifier.fit(x_train, y_train)\n",
    "    predicted = voting_classifier.predict(x_test)\n",
    "    print(\"VotingClassifier 정확도:\", accuracy_score(y_test, predicted)) #예측값과 실제값 비교\n"
   ]
  },
  {
   "cell_type": "code",
   "execution_count": 6,
   "id": "ae90cca5",
   "metadata": {},
   "outputs": [
    {
     "name": "stdout",
     "output_type": "stream",
     "text": [
      "NB 정확도: 0.5997328584149599\n",
      "CB 정확도: 0.7649154051647373\n",
      " LogisticRegression 정확도: 0.8161175422974176\n"
     ]
    },
    {
     "name": "stderr",
     "output_type": "stream",
     "text": [
      "/home/aiffel/anaconda3/envs/aiffel/lib/python3.9/site-packages/sklearn/svm/_base.py:1244: ConvergenceWarning: Liblinear failed to converge, increase the number of iterations.\n",
      "  warnings.warn(\n"
     ]
    },
    {
     "name": "stdout",
     "output_type": "stream",
     "text": [
      " LinearSVC 정확도: 0.7943009795191451\n",
      " DecisionTreeClassifier 정확도: 0.6211041852181657\n",
      " RandomForestClassifier 정확도: 0.6544968833481746\n",
      " GradientBoostingClassifier 정확도: 0.7702582368655387\n",
      " LogisticRegression 정확도: 0.7702582368655387\n"
     ]
    },
    {
     "name": "stderr",
     "output_type": "stream",
     "text": [
      "/home/aiffel/anaconda3/envs/aiffel/lib/python3.9/site-packages/sklearn/linear_model/_logistic.py:458: ConvergenceWarning: lbfgs failed to converge (status=1):\n",
      "STOP: TOTAL NO. of ITERATIONS REACHED LIMIT.\n",
      "\n",
      "Increase the number of iterations (max_iter) or scale the data as shown in:\n",
      "    https://scikit-learn.org/stable/modules/preprocessing.html\n",
      "Please also refer to the documentation for alternative solver options:\n",
      "    https://scikit-learn.org/stable/modules/linear_model.html#logistic-regression\n",
      "  n_iter_i = _check_optimize_result(\n"
     ]
    },
    {
     "name": "stdout",
     "output_type": "stream",
     "text": [
      " VotingClassifier 정확도: 0.7960819234194123\n",
      "NB 정확도: 0.5997328584149599\n",
      "CB 정확도: 0.7649154051647373\n",
      " LogisticRegression 정확도: 0.8161175422974176\n"
     ]
    },
    {
     "name": "stderr",
     "output_type": "stream",
     "text": [
      "/home/aiffel/anaconda3/envs/aiffel/lib/python3.9/site-packages/sklearn/svm/_base.py:1244: ConvergenceWarning: Liblinear failed to converge, increase the number of iterations.\n",
      "  warnings.warn(\n"
     ]
    },
    {
     "name": "stdout",
     "output_type": "stream",
     "text": [
      " LinearSVC 정확도: 0.786286731967943\n",
      " DecisionTreeClassifier 정확도: 0.6211041852181657\n",
      " RandomForestClassifier 정확도: 0.6544968833481746\n",
      " GradientBoostingClassifier 정확도: 0.7702582368655387\n",
      " LogisticRegression 정확도: 0.7702582368655387\n"
     ]
    },
    {
     "name": "stderr",
     "output_type": "stream",
     "text": [
      "/home/aiffel/anaconda3/envs/aiffel/lib/python3.9/site-packages/sklearn/linear_model/_logistic.py:458: ConvergenceWarning: lbfgs failed to converge (status=1):\n",
      "STOP: TOTAL NO. of ITERATIONS REACHED LIMIT.\n",
      "\n",
      "Increase the number of iterations (max_iter) or scale the data as shown in:\n",
      "    https://scikit-learn.org/stable/modules/preprocessing.html\n",
      "Please also refer to the documentation for alternative solver options:\n",
      "    https://scikit-learn.org/stable/modules/linear_model.html#logistic-regression\n",
      "  n_iter_i = _check_optimize_result(\n"
     ]
    },
    {
     "name": "stdout",
     "output_type": "stream",
     "text": [
      " VotingClassifier 정확도: 0.7960819234194123\n",
      "NB 정확도: 0.6567230632235085\n",
      "CB 정확도: 0.7707034728406055\n",
      " LogisticRegression 정확도: 0.8107747105966162\n"
     ]
    },
    {
     "name": "stderr",
     "output_type": "stream",
     "text": [
      "/home/aiffel/anaconda3/envs/aiffel/lib/python3.9/site-packages/sklearn/svm/_base.py:1244: ConvergenceWarning: Liblinear failed to converge, increase the number of iterations.\n",
      "  warnings.warn(\n"
     ]
    },
    {
     "name": "stdout",
     "output_type": "stream",
     "text": [
      " LinearSVC 정확도: 0.7853962600178095\n",
      " DecisionTreeClassifier 정확도: 0.6202137132680321\n",
      " RandomForestClassifier 정확도: 0.674087266251113\n",
      " GradientBoostingClassifier 정확도: 0.7662511130899377\n",
      " LogisticRegression 정확도: 0.7662511130899377\n"
     ]
    },
    {
     "name": "stderr",
     "output_type": "stream",
     "text": [
      "/home/aiffel/anaconda3/envs/aiffel/lib/python3.9/site-packages/sklearn/linear_model/_logistic.py:458: ConvergenceWarning: lbfgs failed to converge (status=1):\n",
      "STOP: TOTAL NO. of ITERATIONS REACHED LIMIT.\n",
      "\n",
      "Increase the number of iterations (max_iter) or scale the data as shown in:\n",
      "    https://scikit-learn.org/stable/modules/preprocessing.html\n",
      "Please also refer to the documentation for alternative solver options:\n",
      "    https://scikit-learn.org/stable/modules/linear_model.html#logistic-regression\n",
      "  n_iter_i = _check_optimize_result(\n"
     ]
    },
    {
     "name": "stdout",
     "output_type": "stream",
     "text": [
      " VotingClassifier 정확도: 0.7991985752448798\n",
      "NB 정확도: 0.6567230632235085\n",
      "CB 정확도: 0.7707034728406055\n",
      " LogisticRegression 정확도: 0.8107747105966162\n"
     ]
    },
    {
     "name": "stderr",
     "output_type": "stream",
     "text": [
      "/home/aiffel/anaconda3/envs/aiffel/lib/python3.9/site-packages/sklearn/svm/_base.py:1244: ConvergenceWarning: Liblinear failed to converge, increase the number of iterations.\n",
      "  warnings.warn(\n"
     ]
    },
    {
     "name": "stdout",
     "output_type": "stream",
     "text": [
      " LinearSVC 정확도: 0.7867319679430098\n",
      " DecisionTreeClassifier 정확도: 0.6202137132680321\n",
      " RandomForestClassifier 정확도: 0.674087266251113\n",
      " GradientBoostingClassifier 정확도: 0.7662511130899377\n",
      " LogisticRegression 정확도: 0.7662511130899377\n"
     ]
    },
    {
     "name": "stderr",
     "output_type": "stream",
     "text": [
      "/home/aiffel/anaconda3/envs/aiffel/lib/python3.9/site-packages/sklearn/linear_model/_logistic.py:458: ConvergenceWarning: lbfgs failed to converge (status=1):\n",
      "STOP: TOTAL NO. of ITERATIONS REACHED LIMIT.\n",
      "\n",
      "Increase the number of iterations (max_iter) or scale the data as shown in:\n",
      "    https://scikit-learn.org/stable/modules/preprocessing.html\n",
      "Please also refer to the documentation for alternative solver options:\n",
      "    https://scikit-learn.org/stable/modules/linear_model.html#logistic-regression\n",
      "  n_iter_i = _check_optimize_result(\n"
     ]
    },
    {
     "name": "stdout",
     "output_type": "stream",
     "text": [
      " VotingClassifier 정확도: 0.7991985752448798\n",
      "NB 정확도: 0.5997328584149599\n",
      "CB 정확도: 0.7649154051647373\n",
      " LogisticRegression 정확도: 0.8170080142475512\n"
     ]
    },
    {
     "name": "stderr",
     "output_type": "stream",
     "text": [
      "/home/aiffel/anaconda3/envs/aiffel/lib/python3.9/site-packages/sklearn/svm/_base.py:1244: ConvergenceWarning: Liblinear failed to converge, increase the number of iterations.\n",
      "  warnings.warn(\n"
     ]
    },
    {
     "name": "stdout",
     "output_type": "stream",
     "text": [
      " LinearSVC 정확도: 0.7983081032947462\n",
      " DecisionTreeClassifier 정확도: 0.6219946571682992\n",
      " RandomForestClassifier 정확도: 0.6527159394479074\n",
      " GradientBoostingClassifier 정확도: 0.7707034728406055\n",
      " LogisticRegression 정확도: 0.7707034728406055\n"
     ]
    },
    {
     "name": "stderr",
     "output_type": "stream",
     "text": [
      "/home/aiffel/anaconda3/envs/aiffel/lib/python3.9/site-packages/sklearn/linear_model/_logistic.py:458: ConvergenceWarning: lbfgs failed to converge (status=1):\n",
      "STOP: TOTAL NO. of ITERATIONS REACHED LIMIT.\n",
      "\n",
      "Increase the number of iterations (max_iter) or scale the data as shown in:\n",
      "    https://scikit-learn.org/stable/modules/preprocessing.html\n",
      "Please also refer to the documentation for alternative solver options:\n",
      "    https://scikit-learn.org/stable/modules/linear_model.html#logistic-regression\n",
      "  n_iter_i = _check_optimize_result(\n"
     ]
    },
    {
     "name": "stdout",
     "output_type": "stream",
     "text": [
      " VotingClassifier 정확도: 0.7983081032947462\n",
      "NB 정확도: 0.6731967943009796\n",
      "CB 정확도: 0.7707034728406055\n",
      " LogisticRegression 정확도: 0.8032056990204809\n"
     ]
    },
    {
     "name": "stderr",
     "output_type": "stream",
     "text": [
      "/home/aiffel/anaconda3/envs/aiffel/lib/python3.9/site-packages/sklearn/svm/_base.py:1244: ConvergenceWarning: Liblinear failed to converge, increase the number of iterations.\n",
      "  warnings.warn(\n"
     ]
    },
    {
     "name": "stdout",
     "output_type": "stream",
     "text": [
      " LinearSVC 정확도: 0.7711487088156723\n",
      " DecisionTreeClassifier 정확도: 0.6179875333926982\n",
      " RandomForestClassifier 정확도: 0.701246660730187\n",
      " GradientBoostingClassifier 정확도: 0.767586821015138\n",
      " LogisticRegression 정확도: 0.767586821015138\n"
     ]
    },
    {
     "name": "stderr",
     "output_type": "stream",
     "text": [
      "/home/aiffel/anaconda3/envs/aiffel/lib/python3.9/site-packages/sklearn/linear_model/_logistic.py:458: ConvergenceWarning: lbfgs failed to converge (status=1):\n",
      "STOP: TOTAL NO. of ITERATIONS REACHED LIMIT.\n",
      "\n",
      "Increase the number of iterations (max_iter) or scale the data as shown in:\n",
      "    https://scikit-learn.org/stable/modules/preprocessing.html\n",
      "Please also refer to the documentation for alternative solver options:\n",
      "    https://scikit-learn.org/stable/modules/linear_model.html#logistic-regression\n",
      "  n_iter_i = _check_optimize_result(\n"
     ]
    },
    {
     "name": "stdout",
     "output_type": "stream",
     "text": [
      " VotingClassifier 정확도: 0.8000890471950134\n"
     ]
    }
   ],
   "source": [
    "x_train, y_train, x_test, y_test = reuters_load_ml(None, index_to_word)\n",
    "fit_ml(x_train, y_train, x_test, y_test)\n",
    "\n",
    "x_train, y_train, x_test, y_test = reuters_load_ml(10000, index_to_word)\n",
    "fit_ml(x_train, y_train, x_test, y_test)\n",
    "\n",
    "x_train, y_train, x_test, y_test = reuters_load_ml(50000, index_to_word)\n",
    "fit_ml(x_train, y_train, x_test, y_test)\n",
    "\n",
    "x_train, y_train, x_test, y_test = reuters_load_ml(5000, index_to_word)\n",
    "fit_ml(x_train, y_train, x_test, y_test)"
   ]
  },
  {
   "cell_type": "code",
   "execution_count": 16,
   "id": "565bf021",
   "metadata": {},
   "outputs": [
    {
     "name": "stdout",
     "output_type": "stream",
     "text": [
      "Epoch 1/30\n"
     ]
    },
    {
     "name": "stderr",
     "output_type": "stream",
     "text": [
      "2023-06-28 21:50:49.068012: I tensorflow/core/common_runtime/executor.cc:1197] [/device:CPU:0] (DEBUG INFO) Executor start aborting (this does not indicate an error and you can ignore this message): INVALID_ARGUMENT: You must feed a value for placeholder tensor 'gradients/split_2_grad/concat/split_2/split_dim' with dtype int32\n",
      "\t [[{{node gradients/split_2_grad/concat/split_2/split_dim}}]]\n",
      "2023-06-28 21:50:49.068976: I tensorflow/core/common_runtime/executor.cc:1197] [/device:CPU:0] (DEBUG INFO) Executor start aborting (this does not indicate an error and you can ignore this message): INVALID_ARGUMENT: You must feed a value for placeholder tensor 'gradients/split_grad/concat/split/split_dim' with dtype int32\n",
      "\t [[{{node gradients/split_grad/concat/split/split_dim}}]]\n",
      "2023-06-28 21:50:49.069704: I tensorflow/core/common_runtime/executor.cc:1197] [/device:CPU:0] (DEBUG INFO) Executor start aborting (this does not indicate an error and you can ignore this message): INVALID_ARGUMENT: You must feed a value for placeholder tensor 'gradients/split_1_grad/concat/split_1/split_dim' with dtype int32\n",
      "\t [[{{node gradients/split_1_grad/concat/split_1/split_dim}}]]\n",
      "2023-06-28 21:50:49.265277: I tensorflow/core/common_runtime/executor.cc:1197] [/device:CPU:0] (DEBUG INFO) Executor start aborting (this does not indicate an error and you can ignore this message): INVALID_ARGUMENT: You must feed a value for placeholder tensor 'gradients/split_2_grad/concat/split_2/split_dim' with dtype int32\n",
      "\t [[{{node gradients/split_2_grad/concat/split_2/split_dim}}]]\n",
      "2023-06-28 21:50:49.266292: I tensorflow/core/common_runtime/executor.cc:1197] [/device:CPU:0] (DEBUG INFO) Executor start aborting (this does not indicate an error and you can ignore this message): INVALID_ARGUMENT: You must feed a value for placeholder tensor 'gradients/split_grad/concat/split/split_dim' with dtype int32\n",
      "\t [[{{node gradients/split_grad/concat/split/split_dim}}]]\n",
      "2023-06-28 21:50:49.267119: I tensorflow/core/common_runtime/executor.cc:1197] [/device:CPU:0] (DEBUG INFO) Executor start aborting (this does not indicate an error and you can ignore this message): INVALID_ARGUMENT: You must feed a value for placeholder tensor 'gradients/split_1_grad/concat/split_1/split_dim' with dtype int32\n",
      "\t [[{{node gradients/split_1_grad/concat/split_1/split_dim}}]]\n",
      "2023-06-28 21:50:49.729841: I tensorflow/core/common_runtime/executor.cc:1197] [/device:CPU:0] (DEBUG INFO) Executor start aborting (this does not indicate an error and you can ignore this message): INVALID_ARGUMENT: You must feed a value for placeholder tensor 'gradients/split_2_grad/concat/split_2/split_dim' with dtype int32\n",
      "\t [[{{node gradients/split_2_grad/concat/split_2/split_dim}}]]\n",
      "2023-06-28 21:50:49.731120: I tensorflow/core/common_runtime/executor.cc:1197] [/device:CPU:0] (DEBUG INFO) Executor start aborting (this does not indicate an error and you can ignore this message): INVALID_ARGUMENT: You must feed a value for placeholder tensor 'gradients/split_grad/concat/split/split_dim' with dtype int32\n",
      "\t [[{{node gradients/split_grad/concat/split/split_dim}}]]\n",
      "2023-06-28 21:50:49.732006: I tensorflow/core/common_runtime/executor.cc:1197] [/device:CPU:0] (DEBUG INFO) Executor start aborting (this does not indicate an error and you can ignore this message): INVALID_ARGUMENT: You must feed a value for placeholder tensor 'gradients/split_1_grad/concat/split_1/split_dim' with dtype int32\n",
      "\t [[{{node gradients/split_1_grad/concat/split_1/split_dim}}]]\n"
     ]
    },
    {
     "name": "stdout",
     "output_type": "stream",
     "text": [
      "281/281 [==============================] - ETA: 0s - loss: 2.1483 - accuracy: 0.4315"
     ]
    },
    {
     "name": "stderr",
     "output_type": "stream",
     "text": [
      "2023-06-28 21:52:29.586129: I tensorflow/core/common_runtime/executor.cc:1197] [/device:CPU:0] (DEBUG INFO) Executor start aborting (this does not indicate an error and you can ignore this message): INVALID_ARGUMENT: You must feed a value for placeholder tensor 'gradients/split_2_grad/concat/split_2/split_dim' with dtype int32\n",
      "\t [[{{node gradients/split_2_grad/concat/split_2/split_dim}}]]\n",
      "2023-06-28 21:52:29.587272: I tensorflow/core/common_runtime/executor.cc:1197] [/device:CPU:0] (DEBUG INFO) Executor start aborting (this does not indicate an error and you can ignore this message): INVALID_ARGUMENT: You must feed a value for placeholder tensor 'gradients/split_grad/concat/split/split_dim' with dtype int32\n",
      "\t [[{{node gradients/split_grad/concat/split/split_dim}}]]\n",
      "2023-06-28 21:52:29.588248: I tensorflow/core/common_runtime/executor.cc:1197] [/device:CPU:0] (DEBUG INFO) Executor start aborting (this does not indicate an error and you can ignore this message): INVALID_ARGUMENT: You must feed a value for placeholder tensor 'gradients/split_1_grad/concat/split_1/split_dim' with dtype int32\n",
      "\t [[{{node gradients/split_1_grad/concat/split_1/split_dim}}]]\n"
     ]
    },
    {
     "name": "stdout",
     "output_type": "stream",
     "text": [
      "281/281 [==============================] - 105s 367ms/step - loss: 2.1483 - accuracy: 0.4315 - val_loss: 1.8887 - val_accuracy: 0.3856\n",
      "Epoch 2/30\n",
      "281/281 [==============================] - 124s 444ms/step - loss: 1.7339 - accuracy: 0.5446 - val_loss: 1.7138 - val_accuracy: 0.5552\n",
      "Epoch 3/30\n",
      "281/281 [==============================] - 124s 441ms/step - loss: 1.5746 - accuracy: 0.5926 - val_loss: 1.6724 - val_accuracy: 0.5904\n",
      "Epoch 4/30\n",
      "281/281 [==============================] - 110s 392ms/step - loss: 1.3749 - accuracy: 0.6431 - val_loss: 1.4684 - val_accuracy: 0.6273\n",
      "Epoch 5/30\n",
      "281/281 [==============================] - 116s 411ms/step - loss: 1.1811 - accuracy: 0.6889 - val_loss: 1.4076 - val_accuracy: 0.6389\n",
      "Epoch 6/30\n",
      "281/281 [==============================] - 112s 398ms/step - loss: 1.0174 - accuracy: 0.7329 - val_loss: 1.3651 - val_accuracy: 0.6581\n",
      "Epoch 7/30\n",
      "281/281 [==============================] - 108s 382ms/step - loss: 0.8656 - accuracy: 0.7715 - val_loss: 1.3078 - val_accuracy: 0.6812\n",
      "Epoch 8/30\n",
      "281/281 [==============================] - 112s 395ms/step - loss: 0.7317 - accuracy: 0.8055 - val_loss: 1.3348 - val_accuracy: 0.6906\n",
      "Epoch 9/30\n",
      "281/281 [==============================] - 108s 386ms/step - loss: 0.6162 - accuracy: 0.8357 - val_loss: 1.4130 - val_accuracy: 0.6852\n",
      "Epoch 10/30\n",
      "281/281 [==============================] - 113s 402ms/step - loss: 0.5343 - accuracy: 0.8594 - val_loss: 1.4359 - val_accuracy: 0.6963\n",
      "Epoch 11/30\n",
      "281/281 [==============================] - 109s 387ms/step - loss: 0.4627 - accuracy: 0.8810 - val_loss: 1.4298 - val_accuracy: 0.6941\n",
      "Epoch 12/30\n",
      "281/281 [==============================] - 108s 386ms/step - loss: 0.3901 - accuracy: 0.8992 - val_loss: 1.4943 - val_accuracy: 0.7030\n",
      "Epoch 13/30\n",
      "281/281 [==============================] - 177s 628ms/step - loss: 0.3414 - accuracy: 0.9114 - val_loss: 1.5570 - val_accuracy: 0.6981\n",
      "Epoch 14/30\n",
      "281/281 [==============================] - 212s 747ms/step - loss: 0.2967 - accuracy: 0.9238 - val_loss: 1.5670 - val_accuracy: 0.7057\n",
      "Epoch 15/30\n",
      "281/281 [==============================] - 114s 402ms/step - loss: 0.2697 - accuracy: 0.9300 - val_loss: 1.6178 - val_accuracy: 0.6990\n",
      "Epoch 16/30\n",
      "281/281 [==============================] - 110s 393ms/step - loss: 0.2407 - accuracy: 0.9340 - val_loss: 1.7220 - val_accuracy: 0.7008\n",
      "Epoch 17/30\n",
      "281/281 [==============================] - 109s 387ms/step - loss: 0.2180 - accuracy: 0.9391 - val_loss: 1.7064 - val_accuracy: 0.7008\n",
      "Epoch 18/30\n",
      "281/281 [==============================] - 93s 329ms/step - loss: 0.1996 - accuracy: 0.9426 - val_loss: 1.7446 - val_accuracy: 0.7066\n",
      "Epoch 19/30\n",
      "281/281 [==============================] - 99s 353ms/step - loss: 0.1863 - accuracy: 0.9450 - val_loss: 1.7601 - val_accuracy: 0.6999\n",
      "Epoch 20/30\n",
      "281/281 [==============================] - 92s 327ms/step - loss: 0.1750 - accuracy: 0.9454 - val_loss: 1.8090 - val_accuracy: 0.7017\n",
      "Epoch 21/30\n",
      "281/281 [==============================] - 90s 317ms/step - loss: 0.1614 - accuracy: 0.9478 - val_loss: 1.7735 - val_accuracy: 0.7035\n",
      "Epoch 22/30\n",
      "281/281 [==============================] - 88s 312ms/step - loss: 0.1485 - accuracy: 0.9518 - val_loss: 1.9155 - val_accuracy: 0.7017\n",
      "Epoch 23/30\n",
      "281/281 [==============================] - 88s 313ms/step - loss: 0.1499 - accuracy: 0.9488 - val_loss: 1.8935 - val_accuracy: 0.6937\n",
      "Epoch 24/30\n",
      "281/281 [==============================] - 87s 311ms/step - loss: 0.1376 - accuracy: 0.9496 - val_loss: 1.9396 - val_accuracy: 0.6981\n",
      "Epoch 25/30\n",
      "281/281 [==============================] - 99s 351ms/step - loss: 0.1310 - accuracy: 0.9507 - val_loss: 1.9712 - val_accuracy: 0.7026\n",
      "Epoch 26/30\n",
      "281/281 [==============================] - 104s 372ms/step - loss: 0.1295 - accuracy: 0.9517 - val_loss: 1.9581 - val_accuracy: 0.6999\n",
      "Epoch 27/30\n",
      "281/281 [==============================] - 90s 319ms/step - loss: 0.1203 - accuracy: 0.9529 - val_loss: 1.9049 - val_accuracy: 0.6941\n",
      "Epoch 28/30\n",
      "281/281 [==============================] - 86s 306ms/step - loss: 0.1159 - accuracy: 0.9515 - val_loss: 1.8725 - val_accuracy: 0.7070\n",
      "Epoch 29/30\n",
      "281/281 [==============================] - 93s 329ms/step - loss: 0.1110 - accuracy: 0.9540 - val_loss: 2.0003 - val_accuracy: 0.6968\n",
      "Epoch 30/30\n",
      "281/281 [==============================] - 93s 331ms/step - loss: 0.1118 - accuracy: 0.9505 - val_loss: 1.9627 - val_accuracy: 0.6963\n",
      " 1/71 [..............................] - ETA: 28s"
     ]
    },
    {
     "name": "stderr",
     "output_type": "stream",
     "text": [
      "2023-06-28 22:45:22.545661: I tensorflow/core/common_runtime/executor.cc:1197] [/device:CPU:0] (DEBUG INFO) Executor start aborting (this does not indicate an error and you can ignore this message): INVALID_ARGUMENT: You must feed a value for placeholder tensor 'gradients/split_2_grad/concat/split_2/split_dim' with dtype int32\n",
      "\t [[{{node gradients/split_2_grad/concat/split_2/split_dim}}]]\n",
      "2023-06-28 22:45:22.546755: I tensorflow/core/common_runtime/executor.cc:1197] [/device:CPU:0] (DEBUG INFO) Executor start aborting (this does not indicate an error and you can ignore this message): INVALID_ARGUMENT: You must feed a value for placeholder tensor 'gradients/split_grad/concat/split/split_dim' with dtype int32\n",
      "\t [[{{node gradients/split_grad/concat/split/split_dim}}]]\n",
      "2023-06-28 22:45:22.547609: I tensorflow/core/common_runtime/executor.cc:1197] [/device:CPU:0] (DEBUG INFO) Executor start aborting (this does not indicate an error and you can ignore this message): INVALID_ARGUMENT: You must feed a value for placeholder tensor 'gradients/split_1_grad/concat/split_1/split_dim' with dtype int32\n",
      "\t [[{{node gradients/split_1_grad/concat/split_1/split_dim}}]]\n"
     ]
    },
    {
     "name": "stdout",
     "output_type": "stream",
     "text": [
      "71/71 [==============================] - 4s 53ms/step\n",
      "              precision    recall  f1-score   support\n",
      "\n",
      "           0       0.31      0.42      0.36        12\n",
      "           1       0.60      0.70      0.65       105\n",
      "           2       0.44      0.55      0.49        20\n",
      "           3       0.89      0.91      0.90       813\n",
      "           4       0.84      0.77      0.80       474\n",
      "           5       0.00      0.00      0.00         5\n",
      "           6       0.75      0.43      0.55        14\n",
      "           7       1.00      0.33      0.50         3\n",
      "           8       0.52      0.63      0.57        38\n",
      "           9       0.72      0.52      0.60        25\n",
      "          10       0.77      0.67      0.71        30\n",
      "          11       0.48      0.54      0.51        83\n",
      "          12       0.25      0.31      0.28        13\n",
      "          13       0.22      0.41      0.29        37\n",
      "          14       0.17      0.50      0.25         2\n",
      "          15       0.00      0.00      0.00         9\n",
      "          16       0.53      0.53      0.53        99\n",
      "          17       0.50      0.42      0.45        12\n",
      "          18       0.53      0.40      0.46        20\n",
      "          19       0.58      0.61      0.60       133\n",
      "          20       0.41      0.37      0.39        70\n",
      "          21       0.53      0.30      0.38        27\n",
      "          22       0.00      0.00      0.00         7\n",
      "          23       0.22      0.42      0.29        12\n",
      "          24       0.45      0.26      0.33        19\n",
      "          25       0.53      0.58      0.55        31\n",
      "          26       0.60      0.38      0.46         8\n",
      "          27       1.00      0.25      0.40         4\n",
      "          28       0.20      0.20      0.20        10\n",
      "          29       0.08      0.25      0.12         4\n",
      "          30       0.33      0.25      0.29        12\n",
      "          31       0.11      0.08      0.09        13\n",
      "          32       0.67      0.20      0.31        10\n",
      "          33       1.00      0.60      0.75         5\n",
      "          34       0.20      0.14      0.17         7\n",
      "          35       0.50      0.17      0.25         6\n",
      "          36       0.29      0.45      0.36        11\n",
      "          37       0.00      0.00      0.00         2\n",
      "          38       0.00      0.00      0.00         3\n",
      "          39       0.00      0.00      0.00         5\n",
      "          40       0.21      0.30      0.25        10\n",
      "          41       0.21      0.38      0.27         8\n",
      "          42       0.00      0.00      0.00         3\n",
      "          43       0.43      0.50      0.46         6\n",
      "          44       1.00      0.80      0.89         5\n",
      "          45       0.00      0.00      0.00         1\n",
      "\n",
      "    accuracy                           0.70      2246\n",
      "   macro avg       0.42      0.36      0.36      2246\n",
      "weighted avg       0.71      0.70      0.70      2246\n",
      "\n"
     ]
    },
    {
     "name": "stderr",
     "output_type": "stream",
     "text": [
      "/home/aiffel/anaconda3/envs/aiffel/lib/python3.9/site-packages/sklearn/metrics/_classification.py:1344: UndefinedMetricWarning: Precision and F-score are ill-defined and being set to 0.0 in labels with no predicted samples. Use `zero_division` parameter to control this behavior.\n",
      "  _warn_prf(average, modifier, msg_start, len(result))\n",
      "/home/aiffel/anaconda3/envs/aiffel/lib/python3.9/site-packages/sklearn/metrics/_classification.py:1344: UndefinedMetricWarning: Precision and F-score are ill-defined and being set to 0.0 in labels with no predicted samples. Use `zero_division` parameter to control this behavior.\n",
      "  _warn_prf(average, modifier, msg_start, len(result))\n",
      "/home/aiffel/anaconda3/envs/aiffel/lib/python3.9/site-packages/sklearn/metrics/_classification.py:1344: UndefinedMetricWarning: Precision and F-score are ill-defined and being set to 0.0 in labels with no predicted samples. Use `zero_division` parameter to control this behavior.\n",
      "  _warn_prf(average, modifier, msg_start, len(result))\n"
     ]
    }
   ],
   "source": [
    "import numpy as np\n",
    "from sklearn.preprocessing import LabelBinarizer\n",
    "from tensorflow.keras.models import Sequential\n",
    "from tensorflow.keras.layers import Embedding, LSTM, Dense\n",
    "from tensorflow.keras.optimizers import Adam\n",
    "from tensorflow.keras.preprocessing.sequence import pad_sequences\n",
    "from sklearn.metrics import classification_report\n",
    "from tensorflow.keras.layers import Input, LSTM, Embedding, Dense\n",
    "\n",
    "src_vocab = 10000\n",
    "# Reuters 데이터셋 로드\n",
    "(x_train, y_train), (x_test, y_test) = reuters.load_data(num_words=src_vocab, test_split=0.2)\n",
    "\n",
    "# 데이터 전처리\n",
    "label_binarizer = LabelBinarizer()\n",
    "y_train = label_binarizer.fit_transform(y_train)\n",
    "y_test = label_binarizer.fit_transform(y_test)\n",
    "\n",
    "# 시퀀스 패딩\n",
    "text_max_len = 150  # 시퀀스의 최대 길이 지정\n",
    "x_train = pad_sequences(x_train, maxlen=max_sequence_length, padding = 'pre')\n",
    "x_test = pad_sequences(x_test, maxlen=max_sequence_length)\n",
    "\n",
    "embedding_dim = 128\n",
    "hidden_size = 256\n",
    "\n",
    "model = Sequential()\n",
    "model.add(Embedding(src_vocab, embedding_dim))\n",
    "model.add(LSTM(hidden_size,dropout = 0.4))\n",
    "model.add(Dense(units=46, activation='softmax'))\n",
    "\n",
    "# 모델 구성\n",
    "#model = Sequential()\n",
    "#model.add(Embedding(input_dim=10000, output_dim=100, input_length=max_sequence_length))\n",
    "#model.add(LSTM(units=128))\n",
    "#model.add(Dense(units=46, activation='softmax'))\n",
    "\n",
    "# 모델 컴파일\n",
    "model.compile(loss='categorical_crossentropy', optimizer=Adam(), metrics=['accuracy'])\n",
    "\n",
    "# 모델 학습\n",
    "model.fit(x_train, y_train, batch_size=32, epochs=30, validation_data=(x_test, y_test))\n",
    "\n",
    "# 테스트 데이터에 대한 예측\n",
    "y_pred = model.predict(x_test)\n",
    "\n",
    "# 분류 보고서 출력\n",
    "y_pred_labels = np.argmax(y_pred, axis=1)\n",
    "y_test_labels = np.argmax(y_test, axis=1)\n",
    "report = classification_report(y_test_labels, y_pred_labels)\n",
    "print(report)"
   ]
  },
  {
   "cell_type": "code",
   "execution_count": null,
   "id": "cfeb6053",
   "metadata": {},
   "outputs": [],
   "source": []
  }
 ],
 "metadata": {
  "kernelspec": {
   "display_name": "Python 3 (ipykernel)",
   "language": "python",
   "name": "python3"
  },
  "language_info": {
   "codemirror_mode": {
    "name": "ipython",
    "version": 3
   },
   "file_extension": ".py",
   "mimetype": "text/x-python",
   "name": "python",
   "nbconvert_exporter": "python",
   "pygments_lexer": "ipython3",
   "version": "3.9.7"
  }
 },
 "nbformat": 4,
 "nbformat_minor": 5
}

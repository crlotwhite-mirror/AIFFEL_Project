{
 "cells": [
  {
   "cell_type": "markdown",
   "id": "2a96ba5d",
   "metadata": {},
   "source": [
    "## 12. Seq2seq으로 번역기 만들기 [프로젝트]"
   ]
  },
  {
   "cell_type": "code",
   "execution_count": 1,
   "id": "70c113f7",
   "metadata": {},
   "outputs": [
    {
     "name": "stdout",
     "output_type": "stream",
     "text": [
      "1.3.3\n",
      "2.6.0\n",
      "3.4.3\n"
     ]
    }
   ],
   "source": [
    "import pandas as pd\n",
    "import tensorflow\n",
    "import matplotlib\n",
    "\n",
    "print(pd.__version__)\n",
    "print(tensorflow.__version__)\n",
    "print(matplotlib.__version__)"
   ]
  },
  {
   "cell_type": "code",
   "execution_count": 2,
   "id": "d09b2b53",
   "metadata": {},
   "outputs": [
    {
     "name": "stdout",
     "output_type": "stream",
     "text": [
      "2.6.0\n"
     ]
    }
   ],
   "source": [
    "import tensorflow as tf\n",
    "import numpy as np\n",
    "\n",
    "from sklearn.model_selection import train_test_split\n",
    "\n",
    "import matplotlib.ticker as ticker\n",
    "import matplotlib.pyplot as plt\n",
    "\n",
    "import time\n",
    "import re\n",
    "import os\n",
    "import io\n",
    "\n",
    "print(tf.__version__)"
   ]
  },
  {
   "cell_type": "markdown",
   "id": "54687a59",
   "metadata": {},
   "source": [
    "path_en = './data/korean-english-park.train.en'\n",
    "path_kor = './data/korean-english-park.train.ko'\n",
    "\n",
    "raw_kor = pd.read_table(path_kor, header= None)\n",
    "raw_en = pd.read_table(path_en, header = None)"
   ]
  },
  {
   "cell_type": "markdown",
   "id": "5832aa0d",
   "metadata": {},
   "source": [
    "### 파일 읽어 오기"
   ]
  },
  {
   "cell_type": "code",
   "execution_count": 3,
   "id": "848dd8d9",
   "metadata": {},
   "outputs": [
    {
     "name": "stdout",
     "output_type": "stream",
     "text": [
      "Data Size: 94123\n",
      "Example:\n",
      ">> 개인용 컴퓨터 사용의 상당 부분은 \"이것보다 뛰어날 수 있느냐?\"\n",
      ">> 북한의 핵무기 계획을 포기하도록 하려는 압력이 거세지고 있는 가운데, 일본과 북한의 외교관들이 외교 관계를 정상화하려는 회담을 재개했다.\n",
      ">> \"경호 로보트가 침입자나 화재를 탐지하기 위해서 개인적으로, 그리고 전문적으로 사용되고 있습니다.\"\n",
      ">> 수자원부 당국은 논란이 되고 있고, 막대한 비용이 드는 이 사업에 대해 내년에 건설을 시작할 계획이다.\n",
      ">> 또한 근력 운동은 활발하게 걷는 것이나 최소한 20분 동안 뛰는 것과 같은 유산소 활동에서 얻는 운동 효과를 심장과 폐에 주지 않기 때문에, 연구학자들은 근력 운동이 심장에 큰 영향을 미치는지 여부에 대해 논쟁을 해왔다.\n",
      "Data Size: 94123\n",
      "Example:\n",
      ">> Much of personal computing is about \"can you top this?\"\n",
      ">> Amid mounting pressure on North Korea to abandon its nuclear weapons program Japanese and North Korean diplomats have resumed talks on normalizing diplomatic relations.\n",
      ">> “Guard robots are used privately and professionally to detect intruders or fire,” Karlsson said.\n",
      ">> Authorities from the Water Resources Ministry plan to begin construction next year on the controversial and hugely expensive project.\n",
      ">> Researchers also have debated whether weight-training has a big impact on the heart, since it does not give the heart and lungs the kind of workout they get from aerobic activities such as brisk walking or running for at least 20 minutes.\n"
     ]
    }
   ],
   "source": [
    "with open('./data/korean-english-park.train.ko', \"r\") as f:\n",
    "    raw_kor = f.read().splitlines()\n",
    "\n",
    "with open('./data/korean-english-park.train.en', \"r\") as f:\n",
    "    raw_en = f.read().splitlines()\n",
    "\n",
    "print(\"Data Size:\", len(raw_kor))\n",
    "print(\"Example:\")\n",
    "for sen in raw_kor[0:100][::20]: print(\">>\", sen)\n",
    "    \n",
    "print(\"Data Size:\", len(raw_en))\n",
    "print(\"Example:\")\n",
    "for sen in raw_en[0:100][::20]: print(\">>\", sen)"
   ]
  },
  {
   "cell_type": "markdown",
   "id": "adc1d2c9",
   "metadata": {},
   "source": [
    "### Preprocessing"
   ]
  },
  {
   "cell_type": "code",
   "execution_count": 4,
   "id": "57807d4c",
   "metadata": {},
   "outputs": [],
   "source": [
    "#For korean\n",
    "\n",
    "import re\n",
    "\n",
    "def preprocess_sentence_kor(sentence, s_token=False, e_token=False):\n",
    "    sentence = sentence.strip()\n",
    "\n",
    "    # Add spaces around punctuation\n",
    "    sentence = re.sub(r\"([?.!,])\", r\" \\1 \", sentence)\n",
    "\n",
    "    # Remove consecutive spaces\n",
    "    sentence = re.sub(r'[\" \"]+', \" \", sentence)\n",
    "\n",
    "    # Remove all characters except Korean, spaces, and punctuation\n",
    "    sentence = re.sub(r\"[^가-힣0-9a-zA-Z?.!,]+\", \" \", sentence)\n",
    "\n",
    "    # Remove leading/trailing spaces\n",
    "    sentence = sentence.strip()\n",
    "\n",
    "    if s_token:\n",
    "        sentence = '<start> ' + sentence\n",
    "\n",
    "    if e_token:\n",
    "        sentence += ' <end>'\n",
    "\n",
    "    return sentence"
   ]
  },
  {
   "cell_type": "code",
   "execution_count": 5,
   "id": "358b68ed",
   "metadata": {},
   "outputs": [],
   "source": [
    "#For English\n",
    "\n",
    "def preprocess_sentence_en(sentence, s_token=False, e_token=False):\n",
    "    sentence = sentence.lower().strip()\n",
    "\n",
    "    sentence = re.sub(r\"([?.!,])\", r\" \\1 \", sentence)\n",
    "    sentence = re.sub(r'[\" \"]+', \" \", sentence)\n",
    "    sentence = re.sub(r\"[^a-zA-Z?.!,]+\", \" \", sentence)\n",
    "\n",
    "    sentence = sentence.strip()\n",
    "\n",
    "    if s_token:\n",
    "        sentence = '<start> ' + sentence\n",
    "\n",
    "    if e_token:\n",
    "        sentence += ' <end>'\n",
    "    \n",
    "    return sentence"
   ]
  },
  {
   "cell_type": "code",
   "execution_count": 6,
   "id": "74866f4b",
   "metadata": {
    "scrolled": true
   },
   "outputs": [
    {
     "data": {
      "text/plain": [
       "(['개인용 컴퓨터 사용의 상당 부분은 \"이것보다 뛰어날 수 있느냐?\"',\n",
       "  '모든 광마우스와 마찬가지 로 이 광마우스도 책상 위에 놓는 마우스 패드를 필요로 하지 않는다.',\n",
       "  '그러나 이것은 또한 책상도 필요로 하지 않는다.',\n",
       "  '79.95달러하는 이 최첨단 무선 광마우스는 허공에서 팔목, 팔, 그외에 어떤 부분이든 그 움직임에따라 커서의 움직임을 조절하는 회전 운동 센서를 사용하고 있다.',\n",
       "  '정보 관리들은 동남 아시아에서의 선박들에 대한 많은 (테러) 계획들이 실패로 돌아갔음을 밝혔으며, 세계 해상 교역량의 거의 3분의 1을 운송하는 좁은 해로인 말라카 해협이 테러 공격을 당하기 쉽다고 경고하고 있다.'],\n",
       " ['Much of personal computing is about \"can you top this?\"',\n",
       "  'so a mention a few weeks ago about a rechargeable wireless optical mouse brought in another rechargeable, wireless mouse.',\n",
       "  \"Like all optical mice, But it also doesn't need a desk.\",\n",
       "  'uses gyroscopic sensors to control the cursor movement as you move your wrist, arm, whatever through the air.',\n",
       "  \"Intelligence officials have revealed a spate of foiled plots on ships in Southeast Asia and are warning that a narrow stretch of water carrying almost one third of the world's maritime trade is vulnerable to a terror attack.\"])"
      ]
     },
     "execution_count": 6,
     "metadata": {},
     "output_type": "execute_result"
    }
   ],
   "source": [
    "raw_kor[:5], raw_en[:5]"
   ]
  },
  {
   "cell_type": "code",
   "execution_count": 7,
   "id": "cd682ac0",
   "metadata": {},
   "outputs": [
    {
     "name": "stdout",
     "output_type": "stream",
     "text": [
      "Korean: 모든 광마우스와 마찬가지 로 이 광마우스도 책상 위에 놓는 마우스 패드를 필요로 하지 않는다 .\n",
      "English: <start> so a mention a few weeks ago about a rechargeable wireless optical mouse brought in another rechargeable , wireless mouse . <end>\n"
     ]
    },
    {
     "data": {
      "text/plain": [
       "(94123, 94123)"
      ]
     },
     "execution_count": 7,
     "metadata": {},
     "output_type": "execute_result"
    }
   ],
   "source": [
    "enc_corpus = [preprocess_sentence_kor(line) for line in raw_kor]\n",
    "dec_corpus = [preprocess_sentence_en(line, s_token = True, e_token = True) for line in raw_en]\n",
    "\n",
    "print(\"Korean:\", enc_corpus[1])   # go away !\n",
    "print(\"English:\", dec_corpus[1])   # <start> salga de aqu ! <end>\n",
    "len(enc_corpus),len(dec_corpus)\n"
   ]
  },
  {
   "cell_type": "markdown",
   "id": "638aac27",
   "metadata": {},
   "source": [
    "### 중복 제외"
   ]
  },
  {
   "cell_type": "code",
   "execution_count": 8,
   "id": "63eb98e5",
   "metadata": {
    "scrolled": false
   },
   "outputs": [
    {
     "data": {
      "text/plain": [
       "[('한편 일본 정부는 중국정부의 입장을 존중해 이번 티베트 소요에 대해 아무런 언급을 하지 않았다 .',\n",
       "  '<start> japan s government has been relatively quiet about the violence in tibet and , out of deference to beijing , does not deal officially with the dalai lama . <end>'),\n",
       " ('모 아니면 도였지요 라고 말했다 .', '<start> it was all or nothing . <end>'),\n",
       " ('단어장 서울대 총장 , 고교평준화 시행 촉구2005 . 08',\n",
       "  '<start> seoul national university snu president chung un chan on monday urged the government to reconsider its ban on the high school ranking system . <end>'),\n",
       " ('고려대학교는 입학 정원으로 120명을 할당받았다 .',\n",
       "  '<start> korea university was granted a student quota of . <end>'),\n",
       " ('단어장 Australia wants Iraq troops home by mid 2008호주 , 이라크 파병 호주군 2008년까지 철군 희망2008 . 06',\n",
       "  '<start> rudd promised a gradual withdrawal of the troops , but had been coy about setting a timetable for their return to australia . <end>')]"
      ]
     },
     "execution_count": 8,
     "metadata": {},
     "output_type": "execute_result"
    }
   ],
   "source": [
    "#병렬데이터 중복 제거\n",
    "cleaned_corpus = set(zip(enc_corpus, dec_corpus))\n",
    "see = list(cleaned_corpus)\n",
    "see[:5]"
   ]
  },
  {
   "cell_type": "markdown",
   "id": "daee2ef0",
   "metadata": {},
   "source": [
    "### Tokenizing"
   ]
  },
  {
   "cell_type": "code",
   "execution_count": 9,
   "id": "30f5ed64",
   "metadata": {},
   "outputs": [],
   "source": [
    "from konlpy.tag import Mecab"
   ]
  },
  {
   "cell_type": "code",
   "execution_count": 10,
   "id": "ca9d5ee9",
   "metadata": {
    "scrolled": false
   },
   "outputs": [],
   "source": [
    "def sentence_filter(corpus1, corpus2):\n",
    "    \n",
    "    MAX_LENGTH = 40\n",
    "    \n",
    "    mecab_corpus = []\n",
    "    m = Mecab()\n",
    "    \n",
    "    for sentence in corpus1:\n",
    "        mecab_corpus.append(m.morphs(sentence))\n",
    "    \n",
    "    corpus_en = [s.split() for s in corpus2]\n",
    "    \n",
    "    zipped = zip(mecab_corpus, corpus_en)\n",
    "    zipped_pd = pd.DataFrame(zipped, columns=['Korean', 'English'])\n",
    "    #tokens_zipped_pd.head()\n",
    "    \n",
    "    mask = (zipped_pd['Korean'].str.len() <= MAX_LENGTH) & (zipped_pd['English'].str.len() <= MAX_LENGTH)\n",
    "    result = zipped_pd[mask]\n",
    "    \n",
    "    mecab_corpus = result['Korean']\n",
    "    corpus_en = result['English']\n",
    "    \n",
    "    return mecab_corpus, corpus_en"
   ]
  },
  {
   "cell_type": "code",
   "execution_count": 11,
   "id": "b3bda7be",
   "metadata": {},
   "outputs": [],
   "source": [
    "def tokenize_kor(corpus):\n",
    "    \n",
    "    tokenizer = tf.keras.preprocessing.text.Tokenizer(filters='')\n",
    "\n",
    "    #mecab_corpus, corpus_en = sentence_filter(corpus1, corpus2, MAX_LENGTH)   # 문장 길이 40까지 filtering\n",
    "\n",
    "    tokenizer.fit_on_texts(corpus)\n",
    "    mecab_tensor = tokenizer.texts_to_sequences(corpus)\n",
    "    #mecab_tensor = tf.keras.preprocessing.sequence.pad_sequences(mecab_tensor, padding='post', maxlen=max_len)\n",
    "    mecab_tensor = tf.keras.preprocessing.sequence.pad_sequences(mecab_tensor, padding='post')\n",
    "    return mecab_tensor, tokenizer\n",
    "\n"
   ]
  },
  {
   "cell_type": "code",
   "execution_count": 12,
   "id": "f786f3eb",
   "metadata": {},
   "outputs": [],
   "source": [
    "def tokenize_en(corpus):\n",
    "    tokenizer = tf.keras.preprocessing.text.Tokenizer(filters='')\n",
    "    tokenizer.fit_on_texts(corpus)\n",
    "\n",
    "    tensor = tokenizer.texts_to_sequences(corpus)\n",
    "\n",
    "    tensor = tf.keras.preprocessing.sequence.pad_sequences(tensor, padding='post')\n",
    "\n",
    "    return tensor, tokenizer"
   ]
  },
  {
   "cell_type": "code",
   "execution_count": 13,
   "id": "c35153bc",
   "metadata": {},
   "outputs": [],
   "source": [
    "cor_kor, cor_en = zip(*cleaned_corpus)"
   ]
  },
  {
   "cell_type": "code",
   "execution_count": 14,
   "id": "b05fa062",
   "metadata": {
    "scrolled": false
   },
   "outputs": [
    {
     "data": {
      "text/plain": [
       "(78930, 78930, 54, 46)"
      ]
     },
     "execution_count": 14,
     "metadata": {},
     "output_type": "execute_result"
    }
   ],
   "source": [
    "len(cor_kor), len(cor_en), len(cor_kor[0]), len(cor_kor[10]) "
   ]
  },
  {
   "cell_type": "code",
   "execution_count": 15,
   "id": "7bd43c00",
   "metadata": {},
   "outputs": [],
   "source": [
    "corpus_kor, corpus_en = sentence_filter(cor_kor, cor_en)"
   ]
  },
  {
   "cell_type": "code",
   "execution_count": 16,
   "id": "1fe74748",
   "metadata": {
    "scrolled": true
   },
   "outputs": [
    {
     "data": {
      "text/plain": [
       "(61503, 61503, 25, 22)"
      ]
     },
     "execution_count": 16,
     "metadata": {},
     "output_type": "execute_result"
    }
   ],
   "source": [
    "len(corpus_kor), len(corpus_en), len(corpus_kor[0]), len(corpus_kor[10]) "
   ]
  },
  {
   "cell_type": "code",
   "execution_count": 17,
   "id": "03359f1b",
   "metadata": {},
   "outputs": [],
   "source": [
    "# 토큰화하기\n",
    "tokens_kor, enc_tokenizer = tokenize_kor(corpus_kor)\n",
    "tokens_en, dec_tokenizer = tokenize_en(corpus_en)"
   ]
  },
  {
   "cell_type": "code",
   "execution_count": 18,
   "id": "2d2b34bb",
   "metadata": {
    "scrolled": false
   },
   "outputs": [
    {
     "data": {
      "text/plain": [
       "(40, 40, 40, 61503, 61503)"
      ]
     },
     "execution_count": 18,
     "metadata": {},
     "output_type": "execute_result"
    }
   ],
   "source": [
    "len(tokens_kor[23]), len(tokens_kor[1]), len(tokens_en[1]), len(tokens_en[1]), len(tokens_kor), len(tokens_en)"
   ]
  },
  {
   "cell_type": "code",
   "execution_count": 19,
   "id": "10979371",
   "metadata": {},
   "outputs": [],
   "source": [
    "class BahdanauAttention(tf.keras.layers.Layer):\n",
    "    def __init__(self, units):\n",
    "        super(BahdanauAttention, self).__init__()\n",
    "        self.w_dec = tf.keras.layers.Dense(units)\n",
    "        self.w_enc = tf.keras.layers.Dense(units)\n",
    "        self.w_com = tf.keras.layers.Dense(1)\n",
    "    \n",
    "    def call(self, h_enc, h_dec):\n",
    "        # h_enc shape: [batch x length x units]\n",
    "        # h_dec shape: [batch x units]\n",
    "\n",
    "        h_enc = self.w_enc(h_enc)\n",
    "        h_dec = tf.expand_dims(h_dec, 1)\n",
    "        h_dec = self.w_dec(h_dec)\n",
    "\n",
    "        score = self.w_com(tf.nn.tanh(h_dec + h_enc))\n",
    "        \n",
    "        attn = tf.nn.softmax(score, axis=1)\n",
    "\n",
    "        context_vec = attn * h_enc\n",
    "        context_vec = tf.reduce_sum(context_vec, axis=1)\n",
    "\n",
    "        return context_vec, attn\n"
   ]
  },
  {
   "cell_type": "code",
   "execution_count": 20,
   "id": "c147b9fd",
   "metadata": {},
   "outputs": [],
   "source": [
    "class Encoder(tf.keras.Model):\n",
    "    def __init__(self, vocab_size, embedding_dim, enc_units):\n",
    "        super(Encoder, self).__init__()\n",
    "        self.embedding = tf.keras.layers.Embedding(vocab_size, embedding_dim)\n",
    "        self.gru = tf.keras.layers.GRU(enc_units, return_sequences=True)\n",
    "        \n",
    "    def call(self, x):\n",
    "        x = self.embedding(x)\n",
    "        x = self.gru(x)\n",
    "        return x"
   ]
  },
  {
   "cell_type": "code",
   "execution_count": 22,
   "id": "c1486562",
   "metadata": {},
   "outputs": [],
   "source": [
    "# reference\n",
    "class Decoder(tf.keras.Model):\n",
    "    def __init__(self, vocab_size, embedding_dim, dec_units):\n",
    "        super(Decoder, self).__init__()\n",
    "        self.dec_units = dec_units\n",
    "        self.embedding = tf.keras.layers.Embedding(vocab_size, embedding_dim)\n",
    "        self.gru = tf.keras.layers.GRU(dec_units,\n",
    "                                       return_sequences=True,\n",
    "                                       return_state=True)\n",
    "        self.fc = tf.keras.layers.Dense(vocab_size)\n",
    "\n",
    "        self.attention = BahdanauAttention(self.dec_units)\n",
    "\n",
    "    def call(self, x, h_dec, enc_out):\n",
    "        context_vec, attn = self.attention(enc_out, h_dec)\n",
    "\n",
    "        out = self.embedding(x)\n",
    "        out = tf.concat([tf.expand_dims(context_vec, 1), out], axis=-1)\n",
    "        \n",
    "        out, h_dec = self.gru(out)\n",
    "        out = tf.reshape(out, (-1, out.shape[2]))\n",
    "        out = self.fc(out)\n",
    "\n",
    "        return out, h_dec, attn"
   ]
  },
  {
   "cell_type": "code",
   "execution_count": 23,
   "id": "882150ee",
   "metadata": {},
   "outputs": [
    {
     "name": "stdout",
     "output_type": "stream",
     "text": [
      "Encoder Output: (16, 30, 1024)\n",
      "Decoder Output: (16, 37967)\n",
      "Decoder Hidden State: (16, 1024)\n",
      "Attention: (16, 30, 1)\n"
     ]
    }
   ],
   "source": [
    "# 코드를 실행하세요.\n",
    "\n",
    "BATCH_SIZE     = 16#32#64\n",
    "SRC_VOCAB_SIZE = len(enc_tokenizer.index_word) + 1\n",
    "TGT_VOCAB_SIZE = len(dec_tokenizer.index_word) + 1\n",
    "\n",
    "units         = 1024\n",
    "embedding_dim = 512\n",
    "\n",
    "encoder = Encoder(SRC_VOCAB_SIZE, embedding_dim, units )\n",
    "decoder = Decoder(TGT_VOCAB_SIZE, embedding_dim, units)\n",
    "\n",
    "# sample input\n",
    "sequence_len = 30\n",
    "\n",
    "sample_enc = tf.random.uniform((BATCH_SIZE, sequence_len))\n",
    "sample_output = encoder(sample_enc)\n",
    "\n",
    "print ('Encoder Output:', sample_output.shape)\n",
    "\n",
    "sample_state = tf.random.uniform((BATCH_SIZE, units))\n",
    "\n",
    "sample_logits, h_dec, attn = decoder(tf.random.uniform((BATCH_SIZE, 1)),\n",
    "                                     sample_state, sample_output)\n",
    "\n",
    "print ('Decoder Output:', sample_logits.shape)\n",
    "print ('Decoder Hidden State:', h_dec.shape)\n",
    "print ('Attention:', attn.shape)"
   ]
  },
  {
   "cell_type": "code",
   "execution_count": 24,
   "id": "3bd5abf0",
   "metadata": {},
   "outputs": [],
   "source": [
    "optimizer = tf.keras.optimizers.Adam()\n",
    "loss_object = tf.keras.losses.SparseCategoricalCrossentropy(\n",
    "    from_logits=True, reduction='none')\n",
    "\n",
    "def loss_function(real, pred):\n",
    "    mask = tf.math.logical_not(tf.math.equal(real, 0))\n",
    "    loss = loss_object(real, pred)\n",
    "    \n",
    "    mask = tf.cast(mask, dtype=loss.dtype)\n",
    "    loss *= mask\n",
    "    \n",
    "    return tf.reduce_mean(loss)"
   ]
  },
  {
   "cell_type": "code",
   "execution_count": 25,
   "id": "554e49dd",
   "metadata": {},
   "outputs": [],
   "source": [
    "@tf.function\n",
    "def train_step(src, tgt, encoder, decoder, optimizer, dec_tok):\n",
    "    bsz = src.shape[0]\n",
    "    loss = 0\n",
    "\n",
    "    with tf.GradientTape() as tape:\n",
    "        enc_out = encoder(src)\n",
    "        h_dec = enc_out[:, -1]\n",
    "        \n",
    "        dec_src = tf.expand_dims([dec_tok.word_index['<start>']] * bsz, 1)\n",
    "\n",
    "        for t in range(1, tgt.shape[1]):\n",
    "            pred, h_dec, _ = decoder(dec_src, h_dec, enc_out)\n",
    "\n",
    "            loss += loss_function(tgt[:, t], pred)\n",
    "            dec_src = tf.expand_dims(tgt[:, t], 1)\n",
    "        \n",
    "    batch_loss = (loss / int(tgt.shape[1]))\n",
    "\n",
    "    variables = encoder.trainable_variables + decoder.trainable_variables\n",
    "    gradients = tape.gradient(loss, variables)\n",
    "    optimizer.apply_gradients(zip(gradients, variables))\n",
    "    \n",
    "    return batch_loss"
   ]
  },
  {
   "cell_type": "code",
   "execution_count": 26,
   "id": "f4a6dcf0",
   "metadata": {},
   "outputs": [
    {
     "data": {
      "text/plain": [
       "(61503, 40)"
      ]
     },
     "execution_count": 26,
     "metadata": {},
     "output_type": "execute_result"
    }
   ],
   "source": [
    "tokens_kor.shape"
   ]
  },
  {
   "cell_type": "code",
   "execution_count": 27,
   "id": "590287a0",
   "metadata": {
    "scrolled": true
   },
   "outputs": [
    {
     "name": "stderr",
     "output_type": "stream",
     "text": [
      "Epoch  1: 100%|██████████| 3844/3844 [24:00<00:00,  2.67it/s, Loss 3.8131]  \n",
      "Epoch  2: 100%|██████████| 3844/3844 [22:48<00:00,  2.81it/s, Loss 3.6357]\n",
      "Epoch  3: 100%|██████████| 3844/3844 [22:50<00:00,  2.80it/s, Loss 3.7541]\n",
      "Epoch  4: 100%|██████████| 3844/3844 [22:50<00:00,  2.80it/s, Loss 3.8355]\n",
      "Epoch  5: 100%|██████████| 3844/3844 [22:46<00:00,  2.81it/s, Loss 3.7967]\n",
      "Epoch  6: 100%|██████████| 3844/3844 [22:45<00:00,  2.81it/s, Loss 3.7648]\n",
      "Epoch  7: 100%|██████████| 3844/3844 [22:45<00:00,  2.81it/s, Loss 3.7110]\n",
      "Epoch  8: 100%|██████████| 3844/3844 [22:46<00:00,  2.81it/s, Loss 3.6398]\n",
      "Epoch  9: 100%|██████████| 3844/3844 [22:45<00:00,  2.81it/s, Loss 3.5888]\n",
      "Epoch 10: 100%|██████████| 3844/3844 [22:45<00:00,  2.82it/s, Loss 3.5466]\n"
     ]
    }
   ],
   "source": [
    "from tqdm import tqdm # tqdm \n",
    "import random\n",
    "\n",
    "EPOCHS =10\n",
    "\n",
    "\n",
    "for epoch in range(EPOCHS):\n",
    "    total_loss = 0\n",
    "    \n",
    "    idx_list = list(range(0, tokens_kor.shape[0], BATCH_SIZE))\n",
    "    random.shuffle(idx_list)\n",
    "    t = tqdm(idx_list)\n",
    "\n",
    "    for (batch, idx) in enumerate(t):\n",
    "        batch_loss = train_step(tokens_kor[idx:idx+BATCH_SIZE],\n",
    "                                tokens_en[idx:idx+BATCH_SIZE],\n",
    "                                encoder,\n",
    "                                decoder,\n",
    "                                optimizer,\n",
    "                                dec_tokenizer)\n",
    "    \n",
    "        total_loss += batch_loss\n",
    "        \n",
    "        t.set_description_str('Epoch %2d' % (epoch + 1))\n",
    "        t.set_postfix_str('Loss %.4f' % (total_loss.numpy() / (batch + 1)))\n",
    "    \n",
    "    test_loss = 0\n",
    "    \n",
    "    "
   ]
  },
  {
   "cell_type": "code",
   "execution_count": 29,
   "id": "8028dd28",
   "metadata": {},
   "outputs": [
    {
     "name": "stdout",
     "output_type": "stream",
     "text": [
      "완료!\n"
     ]
    }
   ],
   "source": [
    "#그래프 한글표현 인스톨?\n",
    "\n",
    "import matplotlib as mpl\n",
    "import matplotlib.pyplot as plt\n",
    " \n",
    "%config InlineBackend.figure_format = 'retina'\n",
    " \n",
    "import matplotlib.font_manager as fm\n",
    "fontpath = '/usr/share/fonts/truetype/nanum/NanumBarunGothic.ttf'\n",
    "font = fm.FontProperties(fname=fontpath, size=9)\n",
    "plt.rc('font', family='NanumBarunGothic') \n",
    "mpl.font_manager.findfont(font)\n",
    "\n",
    "print(\"완료!\")"
   ]
  },
  {
   "cell_type": "code",
   "execution_count": 37,
   "id": "b39b330e",
   "metadata": {},
   "outputs": [],
   "source": [
    "enc_train = tokens_kor\n",
    "dec_train = tokens_en\n",
    "\n",
    "def evaluate(sentence, encoder, decoder):\n",
    "    attention = np.zeros((dec_train.shape[-1], enc_train.shape[-1]))\n",
    "    \n",
    "    sentence = preprocess_sentence_kor(sentence)\n",
    "    inputs = enc_tokenizer.texts_to_sequences([sentence.split()])\n",
    "    inputs = tf.keras.preprocessing.sequence.pad_sequences(inputs,\n",
    "                                                           maxlen=enc_train.shape[-1],\n",
    "                                                           padding ='post')\n",
    "\n",
    "    result = ''\n",
    "\n",
    "    enc_out = encoder(inputs)\n",
    "\n",
    "    dec_hidden = enc_out[:, -1]\n",
    "    dec_input = tf.expand_dims([dec_tokenizer.word_index['<start>']], 0)\n",
    "\n",
    "    for t in range(dec_train.shape[-1]):\n",
    "        predictions, dec_hidden, attention_weights = decoder(dec_input,\n",
    "                                                             dec_hidden,\n",
    "                                                             enc_out)\n",
    "\n",
    "        attention_weights = tf.reshape(attention_weights, (-1, ))\n",
    "        attention[t] = attention_weights.numpy()\n",
    "\n",
    "        predicted_id = \\\n",
    "        tf.argmax(tf.math.softmax(predictions, axis=-1)[0]).numpy()\n",
    "\n",
    "        result += dec_tokenizer.index_word[predicted_id] + ' '\n",
    "\n",
    "        if dec_tokenizer.index_word[predicted_id] == '<end>':\n",
    "            return result, sentence, attention\n",
    "\n",
    "        dec_input = tf.expand_dims([predicted_id], 0)\n",
    "\n",
    "    return result, sentence, attention\n",
    "\n",
    "\n"
   ]
  },
  {
   "cell_type": "code",
   "execution_count": 39,
   "id": "75fab5f6",
   "metadata": {},
   "outputs": [
    {
     "name": "stdout",
     "output_type": "stream",
     "text": [
      "Input: 오늘은 날씨가 제법 선선하네요 . 어제 비가 많이 와서 그런가봐요 .\n",
      "Predicted translation: the year of the year of the year of the year of the year of the year of the year of the year of the year of the year of the year of the year of the year of the \n"
     ]
    },
    {
     "data": {
      "image/png": "[encoded data removed]",
      "text/plain": [
       "<Figure size 720x720 with 1 Axes>"
      ]
     },
     "metadata": {
      "image/png": {
       "height": 631,
       "width": 199
      },
      "needs_background": "light"
     },
     "output_type": "display_data"
    }
   ],
   "source": [
    "def plot_attention(attention, sentence, predicted_sentence):\n",
    "    fig = plt.figure(figsize=(10,10))\n",
    "    ax = fig.add_subplot(1, 1, 1)\n",
    "    ax.matshow(attention, cmap='viridis')\n",
    "\n",
    "    fontdict = {'fontsize': 14}\n",
    "    \n",
    "    ax.xaxis.set_major_locator(ticker.FixedLocator(range(len(sentence) + 1)))\n",
    "    ax.yaxis.set_major_locator(ticker.FixedLocator(range(len(predicted_sentence) + 1)))\n",
    "    \n",
    "    ax.set_xticklabels([''] + sentence, fontdict=fontdict, rotation=90)\n",
    "    ax.set_yticklabels([''] + predicted_sentence, fontdict=fontdict)\n",
    "\n",
    "    ax.xaxis.set_major_locator(ticker.MultipleLocator(1))\n",
    "    ax.yaxis.set_major_locator(ticker.MultipleLocator(1))\n",
    "\n",
    "    plt.show()\n",
    "\n",
    "\n",
    "def translate(sentence, encoder, decoder):\n",
    "    result, sentence, attention = evaluate(sentence, encoder, decoder)\n",
    "\n",
    "    print('Input: %s' % (sentence))\n",
    "    print('Predicted translation: {}'.format(result))\n",
    "    \n",
    "    attention = attention[:len(result.split()), :len(sentence.split())]\n",
    "    plot_attention(attention, sentence.split(), result.split(' '))\n",
    "\n",
    "\n",
    "translate(\"오늘은 날씨가 제법 선선하네요. 어제 비가 많이 와서 그런가봐요.\", encoder, decoder)"
   ]
  },
  {
   "cell_type": "code",
   "execution_count": null,
   "id": "4338d13f",
   "metadata": {},
   "outputs": [],
   "source": []
  }
 ],
 "metadata": {
  "kernelspec": {
   "display_name": "Python 3 (ipykernel)",
   "language": "python",
   "name": "python3"
  },
  "language_info": {
   "codemirror_mode": {
    "name": "ipython",
    "version": 3
   },
   "file_extension": ".py",
   "mimetype": "text/x-python",
   "name": "python",
   "nbconvert_exporter": "python",
   "pygments_lexer": "ipython3",
   "version": "3.9.7"
  }
 },
 "nbformat": 4,
 "nbformat_minor": 5
}
